{
 "cells": [
  {
   "cell_type": "code",
   "execution_count": 3,
   "id": "cea08338-9f20-41f9-a60c-d4d7f68dac1a",
   "metadata": {
    "tags": []
   },
   "outputs": [],
   "source": [
    "import pandas as pd"
   ]
  },
  {
   "cell_type": "markdown",
   "id": "3176c22a-dc7d-49f8-8eb6-cfb1dc9478af",
   "metadata": {},
   "source": [
    "## Cleaning scrapped Data of Coop stores \n",
    "* first take a look at the data for supermarket\n",
    "* then all stores with coop in the name\n",
    "* output csv:\n",
    "    - all coop store counted for each plz\n",
    "    - separated plz count for each store with coop in the name \n",
    "        - listed in a dataframe [shopname, plz, count]\n",
    "        - pivot in a dataframe [storename,plz]"
   ]
  },
  {
   "cell_type": "markdown",
   "id": "5df285ed-8d48-4422-be5c-532557f47ac1",
   "metadata": {
    "tags": []
   },
   "source": [
    "#### Take a look at the data (only supermarket)"
   ]
  },
  {
   "cell_type": "code",
   "execution_count": 6,
   "id": "f1a1d332-b965-4f2c-a185-b8dfa5873b95",
   "metadata": {
    "scrolled": true,
    "tags": []
   },
   "outputs": [
    {
     "data": {
      "text/plain": [
       "dict"
      ]
     },
     "execution_count": 6,
     "metadata": {},
     "output_type": "execute_result"
    }
   ],
   "source": [
    "with open(\"../../data/raw_data/coop_standorte_ch_supermarket.json\") as json_file:\n",
    "    json_coop = json.load(json_file)\n",
    "type(json_coop)"
   ]
  },
  {
   "cell_type": "code",
   "execution_count": 7,
   "id": "851f43fc-85ee-415a-aa1f-704c9abdbb6c",
   "metadata": {
    "scrolled": true,
    "tags": []
   },
   "outputs": [
    {
     "data": {
      "text/plain": [
       "dict_keys(['vstList'])"
      ]
     },
     "execution_count": 7,
     "metadata": {},
     "output_type": "execute_result"
    }
   ],
   "source": [
    "json_coop.keys()"
   ]
  },
  {
   "cell_type": "code",
   "execution_count": 8,
   "id": "2ce11fef-d04b-4233-a10d-b56548da0348",
   "metadata": {
    "tags": []
   },
   "outputs": [],
   "source": [
    "normelaize_coop=pd.json_normalize(json_coop['vstList'])\n",
    "#normelaize_coop"
   ]
  },
  {
   "cell_type": "code",
   "execution_count": 9,
   "id": "6c594dd4-db5a-4066-a1ce-bdc0ca9ba9df",
   "metadata": {
    "tags": []
   },
   "outputs": [
    {
     "name": "stdout",
     "output_type": "stream",
     "text": [
      "<class 'pandas.core.frame.DataFrame'>\n",
      "RangeIndex: 714 entries, 0 to 713\n",
      "Data columns (total 28 columns):\n",
      " #   Column                      Non-Null Count  Dtype  \n",
      "---  ------                      --------------  -----  \n",
      " 0   namePublic                  714 non-null    object \n",
      " 1   orgVlcRegNr                 714 non-null    object \n",
      " 2   logoAltText                 714 non-null    object \n",
      " 3   distance                    714 non-null    float64\n",
      " 4   strasse                     714 non-null    object \n",
      " 5   language                    714 non-null    object \n",
      " 6   logoSmall                   714 non-null    object \n",
      " 7   ort                         714 non-null    object \n",
      " 8   nameInternal                714 non-null    object \n",
      " 9   formatId                    714 non-null    object \n",
      " 10  prettyUrlName               714 non-null    object \n",
      " 11  name                        714 non-null    object \n",
      " 12  hausnummer                  714 non-null    object \n",
      " 13  logo                        714 non-null    object \n",
      " 14  openingHours                714 non-null    object \n",
      " 15  orgVlRegNr                  714 non-null    object \n",
      " 16  orgObId                     714 non-null    object \n",
      " 17  plz                         714 non-null    object \n",
      " 18  myRegion                    714 non-null    object \n",
      " 19  betriebsNummerId.id         714 non-null    object \n",
      " 20  sapFormat.sapSubFormat      714 non-null    object \n",
      " 21  sapFormat.name              714 non-null    object \n",
      " 22  sapFormat.id                714 non-null    int64  \n",
      " 23  geoKoordinaten.xCoordinate  714 non-null    int64  \n",
      " 24  geoKoordinaten.yCoordinate  714 non-null    int64  \n",
      " 25  geoKoordinaten.latitude     714 non-null    float64\n",
      " 26  geoKoordinaten.longitude    714 non-null    float64\n",
      " 27  postalRegion.region         714 non-null    object \n",
      "dtypes: float64(3), int64(3), object(22)\n",
      "memory usage: 156.3+ KB\n"
     ]
    }
   ],
   "source": [
    "normelaize_coop.info()"
   ]
  },
  {
   "cell_type": "code",
   "execution_count": 10,
   "id": "c3434ef7-9a51-43e3-9dd7-67c84aa1f9cd",
   "metadata": {
    "tags": []
   },
   "outputs": [],
   "source": [
    "df_coop=pd.DataFrame(json_coop['vstList'])"
   ]
  },
  {
   "cell_type": "code",
   "execution_count": 11,
   "id": "6a0d2f48-e1b7-477c-a8d9-d380c4df3921",
   "metadata": {
    "tags": []
   },
   "outputs": [
    {
     "data": {
      "text/html": [
       "<div>\n",
       "<style scoped>\n",
       "    .dataframe tbody tr th:only-of-type {\n",
       "        vertical-align: middle;\n",
       "    }\n",
       "\n",
       "    .dataframe tbody tr th {\n",
       "        vertical-align: top;\n",
       "    }\n",
       "\n",
       "    .dataframe thead th {\n",
       "        text-align: right;\n",
       "    }\n",
       "</style>\n",
       "<table border=\"1\" class=\"dataframe\">\n",
       "  <thead>\n",
       "    <tr style=\"text-align: right;\">\n",
       "      <th></th>\n",
       "      <th>namePublic</th>\n",
       "      <th>orgVlcRegNr</th>\n",
       "      <th>logoAltText</th>\n",
       "      <th>distance</th>\n",
       "      <th>strasse</th>\n",
       "      <th>betriebsNummerId</th>\n",
       "      <th>language</th>\n",
       "      <th>logoSmall</th>\n",
       "      <th>ort</th>\n",
       "      <th>nameInternal</th>\n",
       "      <th>...</th>\n",
       "      <th>name</th>\n",
       "      <th>hausnummer</th>\n",
       "      <th>logo</th>\n",
       "      <th>openingHours</th>\n",
       "      <th>geoKoordinaten</th>\n",
       "      <th>postalRegion</th>\n",
       "      <th>orgVlRegNr</th>\n",
       "      <th>orgObId</th>\n",
       "      <th>plz</th>\n",
       "      <th>myRegion</th>\n",
       "    </tr>\n",
       "  </thead>\n",
       "  <tbody>\n",
       "    <tr>\n",
       "      <th>0</th>\n",
       "      <td>Coop Supermarkt Giswil</td>\n",
       "      <td>NWZZ-06</td>\n",
       "      <td>Coop Supermarkt - Logo</td>\n",
       "      <td>3820.913043</td>\n",
       "      <td>BrÃ¼nigstrasse</td>\n",
       "      <td>{'id': '4956'}</td>\n",
       "      <td>DE</td>\n",
       "      <td>https://libs.coop.ch/logos-mini-vst/coop_retai...</td>\n",
       "      <td>Giswil</td>\n",
       "      <td>Coop Supermarkt Giswil 4956</td>\n",
       "      <td>...</td>\n",
       "      <td>Giswil</td>\n",
       "      <td>42</td>\n",
       "      <td>https://libs.coop.ch/logos-vst/coop-retail-de.svg</td>\n",
       "      <td>[{'time': '07:00 - 18:00', 'day': 'SATURDAY', ...</td>\n",
       "      <td>{'xCoordinate': 657026, 'yCoordinate': 187653,...</td>\n",
       "      <td>{'region': 'ZZ'}</td>\n",
       "      <td>-</td>\n",
       "      <td>VRENWZZ</td>\n",
       "      <td>6074</td>\n",
       "      <td>ZZ</td>\n",
       "    </tr>\n",
       "    <tr>\n",
       "      <th>1</th>\n",
       "      <td>Coop Supermarkt Sarnen</td>\n",
       "      <td>NWZZ-06</td>\n",
       "      <td>Coop Supermarkt - Logo</td>\n",
       "      <td>8979.498834</td>\n",
       "      <td>Marktstrasse</td>\n",
       "      <td>{'id': '1969'}</td>\n",
       "      <td>DE</td>\n",
       "      <td>https://libs.coop.ch/logos-mini-vst/coop_retai...</td>\n",
       "      <td>Sarnen</td>\n",
       "      <td>Coop Supermarkt Sarnen 1969</td>\n",
       "      <td>...</td>\n",
       "      <td>Sarnen</td>\n",
       "      <td>32</td>\n",
       "      <td>https://libs.coop.ch/logos-vst/coop-retail-de.svg</td>\n",
       "      <td>[{'time': '07:30 - 18:00', 'day': 'SATURDAY', ...</td>\n",
       "      <td>{'xCoordinate': 661919, 'yCoordinate': 194342,...</td>\n",
       "      <td>{'region': 'ZZ'}</td>\n",
       "      <td>-</td>\n",
       "      <td>VRENWZZ</td>\n",
       "      <td>6060</td>\n",
       "      <td>ZZ</td>\n",
       "    </tr>\n",
       "  </tbody>\n",
       "</table>\n",
       "<p>2 rows × 23 columns</p>\n",
       "</div>"
      ],
      "text/plain": [
       "               namePublic orgVlcRegNr             logoAltText     distance  \\\n",
       "0  Coop Supermarkt Giswil     NWZZ-06  Coop Supermarkt - Logo  3820.913043   \n",
       "1  Coop Supermarkt Sarnen     NWZZ-06  Coop Supermarkt - Logo  8979.498834   \n",
       "\n",
       "          strasse betriebsNummerId language  \\\n",
       "0  BrÃ¼nigstrasse   {'id': '4956'}       DE   \n",
       "1    Marktstrasse   {'id': '1969'}       DE   \n",
       "\n",
       "                                           logoSmall     ort  \\\n",
       "0  https://libs.coop.ch/logos-mini-vst/coop_retai...  Giswil   \n",
       "1  https://libs.coop.ch/logos-mini-vst/coop_retai...  Sarnen   \n",
       "\n",
       "                  nameInternal  ...    name hausnummer  \\\n",
       "0  Coop Supermarkt Giswil 4956  ...  Giswil         42   \n",
       "1  Coop Supermarkt Sarnen 1969  ...  Sarnen         32   \n",
       "\n",
       "                                                logo  \\\n",
       "0  https://libs.coop.ch/logos-vst/coop-retail-de.svg   \n",
       "1  https://libs.coop.ch/logos-vst/coop-retail-de.svg   \n",
       "\n",
       "                                        openingHours  \\\n",
       "0  [{'time': '07:00 - 18:00', 'day': 'SATURDAY', ...   \n",
       "1  [{'time': '07:30 - 18:00', 'day': 'SATURDAY', ...   \n",
       "\n",
       "                                      geoKoordinaten      postalRegion  \\\n",
       "0  {'xCoordinate': 657026, 'yCoordinate': 187653,...  {'region': 'ZZ'}   \n",
       "1  {'xCoordinate': 661919, 'yCoordinate': 194342,...  {'region': 'ZZ'}   \n",
       "\n",
       "  orgVlRegNr  orgObId   plz myRegion  \n",
       "0          -  VRENWZZ  6074       ZZ  \n",
       "1          -  VRENWZZ  6060       ZZ  \n",
       "\n",
       "[2 rows x 23 columns]"
      ]
     },
     "execution_count": 11,
     "metadata": {},
     "output_type": "execute_result"
    }
   ],
   "source": [
    "df_coop.head(2)"
   ]
  },
  {
   "cell_type": "code",
   "execution_count": 12,
   "id": "4c3f1230-0a04-425a-848f-ef5947828dff",
   "metadata": {
    "tags": []
   },
   "outputs": [
    {
     "data": {
      "text/plain": [
       "534"
      ]
     },
     "execution_count": 12,
     "metadata": {},
     "output_type": "execute_result"
    }
   ],
   "source": [
    "# How much plz regions\n",
    "df_coop['plz'].nunique()"
   ]
  },
  {
   "cell_type": "code",
   "execution_count": 13,
   "id": "56fd8fa0-4be8-4f29-ba42-0e733e20bd05",
   "metadata": {},
   "outputs": [],
   "source": [
    "#df_coop['plz'].unique()"
   ]
  },
  {
   "cell_type": "code",
   "execution_count": 14,
   "id": "58d2c703-97d0-4c4d-9afb-e4b4c437d13f",
   "metadata": {},
   "outputs": [
    {
     "data": {
      "text/plain": [
       "plz\n",
       "3011    8\n",
       "4058    7\n",
       "8050    6\n",
       "8048    6\n",
       "3600    5\n",
       "       ..\n",
       "8965    1\n",
       "3048    1\n",
       "3312    1\n",
       "8802    1\n",
       "1933    1\n",
       "Name: count, Length: 534, dtype: int64"
      ]
     },
     "execution_count": 14,
     "metadata": {},
     "output_type": "execute_result"
    }
   ],
   "source": [
    "# Count the supermarkt per plz\n",
    "df_coop['plz'].value_counts()"
   ]
  },
  {
   "cell_type": "code",
   "execution_count": 15,
   "id": "dcde51ee-e15f-451a-bab3-cf47918fdf63",
   "metadata": {},
   "outputs": [
    {
     "data": {
      "text/plain": [
       "logoAltText\n",
       "Coop Supermarkt - Logo    714\n",
       "Name: count, dtype: int64"
      ]
     },
     "execution_count": 15,
     "metadata": {},
     "output_type": "execute_result"
    }
   ],
   "source": [
    "# Use the column 'logoAltText', while the aren't city names or other noises\n",
    "df_coop['logoAltText'].value_counts()"
   ]
  },
  {
   "cell_type": "code",
   "execution_count": 16,
   "id": "badb6a94-2888-4e35-b179-d60cfaa4566b",
   "metadata": {
    "tags": []
   },
   "outputs": [],
   "source": [
    "plz_count=df_coop.groupby(by='plz')['logoAltText'].value_counts()"
   ]
  },
  {
   "cell_type": "code",
   "execution_count": 17,
   "id": "7c756e0c-2fc7-4da4-a0c9-a28ebfba70f0",
   "metadata": {
    "tags": []
   },
   "outputs": [
    {
     "data": {
      "text/plain": [
       "plz   logoAltText           \n",
       "1634  Coop Supermarkt - Logo    1\n",
       "1636  Coop Supermarkt - Logo    1\n",
       "1637  Coop Supermarkt - Logo    1\n",
       "1660  Coop Supermarkt - Logo    1\n",
       "1700  Coop Supermarkt - Logo    4\n",
       "                               ..\n",
       "9548  Coop Supermarkt - Logo    1\n",
       "9630  Coop Supermarkt - Logo    1\n",
       "9642  Coop Supermarkt - Logo    1\n",
       "9650  Coop Supermarkt - Logo    1\n",
       "9657  Coop Supermarkt - Logo    1\n",
       "Name: count, Length: 534, dtype: int64"
      ]
     },
     "execution_count": 17,
     "metadata": {},
     "output_type": "execute_result"
    }
   ],
   "source": [
    "plz_count"
   ]
  },
  {
   "cell_type": "markdown",
   "id": "3af98863-ceca-4e72-b13a-371ed3a26e94",
   "metadata": {},
   "source": [
    "#### Use data for all stores "
   ]
  },
  {
   "cell_type": "code",
   "execution_count": 19,
   "id": "b1278b77-63d3-4621-aa93-faf9bb8d3591",
   "metadata": {
    "tags": []
   },
   "outputs": [],
   "source": [
    "# read for all coop stores\n",
    "\n",
    "with open(\"../../data/raw_data/coop_standorte_ch_p.json\") as json_file:\n",
    "    json_coop_p = json.load(json_file)\n",
    "df_coop_all=pd.DataFrame(json_coop_p['vstList'])"
   ]
  },
  {
   "cell_type": "code",
   "execution_count": 68,
   "id": "b7c857c0-5c1c-47eb-853c-6714ddbd014f",
   "metadata": {
    "tags": []
   },
   "outputs": [],
   "source": [
    "# Uniques at the column 'logoAltText' are usefull to filter the Coop shops of intest\n",
    "names_stores=df_coop_all['logoAltText'].unique()\n",
    "store_count=df_coop_all['logoAltText'].value_counts()"
   ]
  },
  {
   "cell_type": "code",
   "execution_count": 90,
   "id": "1bb1bddd-b7b2-4482-8c51-27cefca8432b",
   "metadata": {
    "tags": []
   },
   "outputs": [],
   "source": [
    "# choose the coops stores of interest\n",
    "list_coop=[]\n",
    "count_list=[]\n",
    "for i,stores in enumerate(names_stores):\n",
    "    if 'Coop' in stores:\n",
    "        list_coop.append(stores)\n",
    "        count_list.append([stores.replace(' - Logo',''),store_count.iloc[i]])"
   ]
  },
  {
   "cell_type": "code",
   "execution_count": 100,
   "id": "d71fdabb-d440-4b89-b2f9-0e226a91706d",
   "metadata": {
    "tags": []
   },
   "outputs": [
    {
     "data": {
      "text/html": [
       "<div>\n",
       "<style scoped>\n",
       "    .dataframe tbody tr th:only-of-type {\n",
       "        vertical-align: middle;\n",
       "    }\n",
       "\n",
       "    .dataframe tbody tr th {\n",
       "        vertical-align: top;\n",
       "    }\n",
       "\n",
       "    .dataframe thead th {\n",
       "        text-align: right;\n",
       "    }\n",
       "</style>\n",
       "<table border=\"1\" class=\"dataframe\">\n",
       "  <thead>\n",
       "    <tr style=\"text-align: right;\">\n",
       "      <th></th>\n",
       "      <th>Storename</th>\n",
       "      <th>count</th>\n",
       "    </tr>\n",
       "  </thead>\n",
       "  <tbody>\n",
       "    <tr>\n",
       "      <th>0</th>\n",
       "      <td>Coop Supermarkt</td>\n",
       "      <td>959</td>\n",
       "    </tr>\n",
       "    <tr>\n",
       "      <th>1</th>\n",
       "      <td>Coop to go</td>\n",
       "      <td>327</td>\n",
       "    </tr>\n",
       "    <tr>\n",
       "      <th>2</th>\n",
       "      <td>Coop Vitality</td>\n",
       "      <td>63</td>\n",
       "    </tr>\n",
       "    <tr>\n",
       "      <th>3</th>\n",
       "      <td>Coop City</td>\n",
       "      <td>30</td>\n",
       "    </tr>\n",
       "    <tr>\n",
       "      <th>4</th>\n",
       "      <td>Coop Bistro</td>\n",
       "      <td>23</td>\n",
       "    </tr>\n",
       "    <tr>\n",
       "      <th>5</th>\n",
       "      <td>Coop Pronto</td>\n",
       "      <td>11</td>\n",
       "    </tr>\n",
       "  </tbody>\n",
       "</table>\n",
       "</div>"
      ],
      "text/plain": [
       "         Storename  count\n",
       "0  Coop Supermarkt    959\n",
       "1       Coop to go    327\n",
       "2    Coop Vitality     63\n",
       "3        Coop City     30\n",
       "4      Coop Bistro     23\n",
       "5      Coop Pronto     11"
      ]
     },
     "execution_count": 100,
     "metadata": {},
     "output_type": "execute_result"
    }
   ],
   "source": [
    "# DataFrame for the count of each Coop Store\n",
    "df_coopstores_count=pd.DataFrame(count_list, columns=['Storename', 'count'])[:-1] # drops 'Coop Tagungzentrun'\n",
    "df_coopstores_count.to_csv('../../data/cleaned_data/df_coopstores_count.csv', index=True)\n",
    "df_coopstores_count"
   ]
  },
  {
   "cell_type": "code",
   "execution_count": 22,
   "id": "4696b90b-390a-4f34-9e4b-5cd4ca207344",
   "metadata": {
    "scrolled": true,
    "tags": []
   },
   "outputs": [
    {
     "data": {
      "text/html": [
       "<div>\n",
       "<style scoped>\n",
       "    .dataframe tbody tr th:only-of-type {\n",
       "        vertical-align: middle;\n",
       "    }\n",
       "\n",
       "    .dataframe tbody tr th {\n",
       "        vertical-align: top;\n",
       "    }\n",
       "\n",
       "    .dataframe thead th {\n",
       "        text-align: right;\n",
       "    }\n",
       "</style>\n",
       "<table border=\"1\" class=\"dataframe\">\n",
       "  <thead>\n",
       "    <tr style=\"text-align: right;\">\n",
       "      <th></th>\n",
       "      <th>zip</th>\n",
       "      <th>stores</th>\n",
       "    </tr>\n",
       "  </thead>\n",
       "  <tbody>\n",
       "    <tr>\n",
       "      <th>0</th>\n",
       "      <td>8001</td>\n",
       "      <td>Coop Supermarkt</td>\n",
       "    </tr>\n",
       "    <tr>\n",
       "      <th>1</th>\n",
       "      <td>8001</td>\n",
       "      <td>Coop to go</td>\n",
       "    </tr>\n",
       "    <tr>\n",
       "      <th>2</th>\n",
       "      <td>8021</td>\n",
       "      <td>Coop Supermarkt</td>\n",
       "    </tr>\n",
       "    <tr>\n",
       "      <th>3</th>\n",
       "      <td>8001</td>\n",
       "      <td>Coop Vitality</td>\n",
       "    </tr>\n",
       "    <tr>\n",
       "      <th>4</th>\n",
       "      <td>8001</td>\n",
       "      <td>Coop Supermarkt</td>\n",
       "    </tr>\n",
       "  </tbody>\n",
       "</table>\n",
       "</div>"
      ],
      "text/plain": [
       "    zip           stores\n",
       "0  8001  Coop Supermarkt\n",
       "1  8001       Coop to go\n",
       "2  8021  Coop Supermarkt\n",
       "3  8001    Coop Vitality\n",
       "4  8001  Coop Supermarkt"
      ]
     },
     "execution_count": 22,
     "metadata": {},
     "output_type": "execute_result"
    }
   ],
   "source": [
    "# create a dataframe with storesname and plz\n",
    "plz_list=[]\n",
    "for i,stores in enumerate(df_coop_all['logoAltText']):\n",
    "    if stores in list_coop:\n",
    "        store_name=stores.replace(' - Logo','')\n",
    "        plz_list.append([df_coop_all['plz'][i],store_name])\n",
    "        \n",
    "df_plz_list=pd.DataFrame(plz_list,columns=['zip', 'stores'])\n",
    "df_plz_list.head()"
   ]
  },
  {
   "cell_type": "code",
   "execution_count": 23,
   "id": "6acfd2ae-9d8e-484e-a289-9bb960f77fbf",
   "metadata": {
    "tags": []
   },
   "outputs": [
    {
     "data": {
      "text/plain": [
       "pandas.core.series.Series"
      ]
     },
     "execution_count": 23,
     "metadata": {},
     "output_type": "execute_result"
    }
   ],
   "source": [
    "# groupby the stores per plz\n",
    "stores_count_byplz=df_plz_list.groupby(by='zip').value_counts()\n",
    "type(stores_count_byplz)"
   ]
  },
  {
   "cell_type": "code",
   "execution_count": 66,
   "id": "4b8c881b-7940-4d66-9965-b590f24d6d3f",
   "metadata": {
    "tags": []
   },
   "outputs": [
    {
     "data": {
      "text/plain": [
       "158"
      ]
     },
     "execution_count": 66,
     "metadata": {},
     "output_type": "execute_result"
    }
   ],
   "source": [
    "df_plz_list.groupby(by='stores').value_counts()['Coop Bistro'].sum()\n",
    "#stores_count"
   ]
  },
  {
   "cell_type": "code",
   "execution_count": 71,
   "id": "b10d2ddc-090d-4c36-8721-84582fffa211",
   "metadata": {
    "tags": []
   },
   "outputs": [
    {
     "data": {
      "text/html": [
       "<div>\n",
       "<style scoped>\n",
       "    .dataframe tbody tr th:only-of-type {\n",
       "        vertical-align: middle;\n",
       "    }\n",
       "\n",
       "    .dataframe tbody tr th {\n",
       "        vertical-align: top;\n",
       "    }\n",
       "\n",
       "    .dataframe thead th {\n",
       "        text-align: right;\n",
       "    }\n",
       "</style>\n",
       "<table border=\"1\" class=\"dataframe\">\n",
       "  <thead>\n",
       "    <tr style=\"text-align: right;\">\n",
       "      <th></th>\n",
       "      <th>zip</th>\n",
       "      <th>count</th>\n",
       "    </tr>\n",
       "  </thead>\n",
       "  <tbody>\n",
       "    <tr>\n",
       "      <th>0</th>\n",
       "      <td>1002</td>\n",
       "      <td>1</td>\n",
       "    </tr>\n",
       "    <tr>\n",
       "      <th>1</th>\n",
       "      <td>1003</td>\n",
       "      <td>8</td>\n",
       "    </tr>\n",
       "    <tr>\n",
       "      <th>2</th>\n",
       "      <td>1004</td>\n",
       "      <td>3</td>\n",
       "    </tr>\n",
       "    <tr>\n",
       "      <th>3</th>\n",
       "      <td>1005</td>\n",
       "      <td>1</td>\n",
       "    </tr>\n",
       "    <tr>\n",
       "      <th>4</th>\n",
       "      <td>1006</td>\n",
       "      <td>3</td>\n",
       "    </tr>\n",
       "  </tbody>\n",
       "</table>\n",
       "</div>"
      ],
      "text/plain": [
       "    zip  count\n",
       "0  1002      1\n",
       "1  1003      8\n",
       "2  1004      3\n",
       "3  1005      1\n",
       "4  1006      3"
      ]
     },
     "execution_count": 71,
     "metadata": {},
     "output_type": "execute_result"
    }
   ],
   "source": [
    "# reset the index and sum for each plz\n",
    "stores_count_byplz=stores_count_byplz.reset_index()\n",
    "allcoop_plz=stores_count_byplz.groupby('zip').sum('count')\n",
    "df_plz_allstores=allcoop_plz.reset_index()\n",
    "df_plz_allstores.head()"
   ]
  },
  {
   "cell_type": "markdown",
   "id": "3052d94b-249a-4744-bd18-fb88bd2a119d",
   "metadata": {
    "tags": []
   },
   "source": [
    "#### check the results \n",
    "- raw data\n",
    "- cleaned data\n",
    "- on the website\n"
   ]
  },
  {
   "cell_type": "code",
   "execution_count": 73,
   "id": "09710169-a6cf-4cc8-9bde-8b2e3afe0bbe",
   "metadata": {
    "tags": []
   },
   "outputs": [
    {
     "data": {
      "text/plain": [
       "1585"
      ]
     },
     "execution_count": 73,
     "metadata": {},
     "output_type": "execute_result"
    }
   ],
   "source": [
    "#check sum of the stores \n",
    "#checked also on the website\n",
    "df_plz_allstores['count'].sum()"
   ]
  },
  {
   "cell_type": "code",
   "execution_count": 75,
   "id": "e5106926-89c8-462a-b164-8e486d234a1a",
   "metadata": {
    "tags": []
   },
   "outputs": [
    {
     "name": "stdout",
     "output_type": "stream",
     "text": [
      "<class 'pandas.core.frame.DataFrame'>\n",
      "RangeIndex: 1585 entries, 0 to 1584\n",
      "Data columns (total 2 columns):\n",
      " #   Column  Non-Null Count  Dtype \n",
      "---  ------  --------------  ----- \n",
      " 0   zip     1585 non-null   object\n",
      " 1   stores  1585 non-null   object\n",
      "dtypes: object(2)\n",
      "memory usage: 24.9+ KB\n"
     ]
    }
   ],
   "source": [
    "df_plz_list.info()"
   ]
  },
  {
   "cell_type": "markdown",
   "id": "ee2e8a53-3dfd-43a9-b4c8-f2c1b523db12",
   "metadata": {},
   "source": [
    "### CSV for sum of all stores (with coop in the name into)"
   ]
  },
  {
   "cell_type": "code",
   "execution_count": 123,
   "id": "f85126a8-89fc-4d4f-971e-d7794399beed",
   "metadata": {
    "tags": []
   },
   "outputs": [],
   "source": [
    "df_plz_allstores.to_csv('../../data/cleaned_data/df_allcoop_zipcount.csv', index=False)"
   ]
  },
  {
   "cell_type": "markdown",
   "id": "dc1f4c35-3ceb-44d2-af78-73310dd2332b",
   "metadata": {},
   "source": [
    "### CSV for each Coop form \n",
    "\n",
    "- Coop Supermarkt\n",
    "- Coop City\n",
    "- Coop to go\n",
    "- Coop Bistro\n",
    "- Coop Vitality\n",
    "- Coop Pronto\n",
    "- Coop Tagungszentrum\n"
   ]
  },
  {
   "cell_type": "code",
   "execution_count": 115,
   "id": "eb8b4409-98e3-4247-af1f-1afc807ddf53",
   "metadata": {
    "tags": []
   },
   "outputs": [],
   "source": [
    "df_differtent_stores_count=pd.DataFrame(df_plz_list.groupby(by=['stores'])['zip'].value_counts())\n",
    "df_diff_coops_list=df_differtent_stores_count.reset_index()\n",
    "df_diff_coops_list.to_csv('../../data/cleaned_data/df_coopstores_zipcount_list.csv', index=False)"
   ]
  },
  {
   "cell_type": "code",
   "execution_count": 132,
   "id": "5bf34ef2-2af2-4e4b-b35c-429617390f0f",
   "metadata": {
    "tags": []
   },
   "outputs": [],
   "source": [
    "df_diff_coops=df_differtent_stores_count.unstack()\n",
    "df_diff_coops=df_diff_coops.fillna(0)\n",
    "df_diff_coops.to_csv('../../data/cleaned_data/df_coopstores_zipcount.csv', index=True)"
   ]
  },
  {
   "cell_type": "code",
   "execution_count": 134,
   "id": "67133e87-769f-4dd7-b91b-253a01ab6060",
   "metadata": {},
   "outputs": [
    {
     "data": {
      "text/html": [
       "<div>\n",
       "<style scoped>\n",
       "    .dataframe tbody tr th:only-of-type {\n",
       "        vertical-align: middle;\n",
       "    }\n",
       "\n",
       "    .dataframe tbody tr th {\n",
       "        vertical-align: top;\n",
       "    }\n",
       "\n",
       "    .dataframe thead tr th {\n",
       "        text-align: left;\n",
       "    }\n",
       "\n",
       "    .dataframe thead tr:last-of-type th {\n",
       "        text-align: right;\n",
       "    }\n",
       "</style>\n",
       "<table border=\"1\" class=\"dataframe\">\n",
       "  <thead>\n",
       "    <tr>\n",
       "      <th></th>\n",
       "      <th colspan=\"21\" halign=\"left\">count</th>\n",
       "    </tr>\n",
       "    <tr>\n",
       "      <th>zip</th>\n",
       "      <th>1002</th>\n",
       "      <th>1003</th>\n",
       "      <th>1004</th>\n",
       "      <th>1005</th>\n",
       "      <th>1006</th>\n",
       "      <th>1007</th>\n",
       "      <th>1008</th>\n",
       "      <th>1009</th>\n",
       "      <th>1010</th>\n",
       "      <th>1012</th>\n",
       "      <th>...</th>\n",
       "      <th>9500</th>\n",
       "      <th>9524</th>\n",
       "      <th>9532</th>\n",
       "      <th>9542</th>\n",
       "      <th>9545</th>\n",
       "      <th>9548</th>\n",
       "      <th>9630</th>\n",
       "      <th>9642</th>\n",
       "      <th>9650</th>\n",
       "      <th>9657</th>\n",
       "    </tr>\n",
       "    <tr>\n",
       "      <th>stores</th>\n",
       "      <th></th>\n",
       "      <th></th>\n",
       "      <th></th>\n",
       "      <th></th>\n",
       "      <th></th>\n",
       "      <th></th>\n",
       "      <th></th>\n",
       "      <th></th>\n",
       "      <th></th>\n",
       "      <th></th>\n",
       "      <th></th>\n",
       "      <th></th>\n",
       "      <th></th>\n",
       "      <th></th>\n",
       "      <th></th>\n",
       "      <th></th>\n",
       "      <th></th>\n",
       "      <th></th>\n",
       "      <th></th>\n",
       "      <th></th>\n",
       "      <th></th>\n",
       "    </tr>\n",
       "  </thead>\n",
       "  <tbody>\n",
       "    <tr>\n",
       "      <th>Coop Bistro</th>\n",
       "      <td>1.0</td>\n",
       "      <td>2.0</td>\n",
       "      <td>0.0</td>\n",
       "      <td>0.0</td>\n",
       "      <td>0.0</td>\n",
       "      <td>0.0</td>\n",
       "      <td>1.0</td>\n",
       "      <td>0.0</td>\n",
       "      <td>0.0</td>\n",
       "      <td>0.0</td>\n",
       "      <td>...</td>\n",
       "      <td>1.0</td>\n",
       "      <td>0.0</td>\n",
       "      <td>1.0</td>\n",
       "      <td>0.0</td>\n",
       "      <td>0.0</td>\n",
       "      <td>0.0</td>\n",
       "      <td>0.0</td>\n",
       "      <td>0.0</td>\n",
       "      <td>0.0</td>\n",
       "      <td>0.0</td>\n",
       "    </tr>\n",
       "    <tr>\n",
       "      <th>Coop City</th>\n",
       "      <td>0.0</td>\n",
       "      <td>1.0</td>\n",
       "      <td>0.0</td>\n",
       "      <td>1.0</td>\n",
       "      <td>0.0</td>\n",
       "      <td>0.0</td>\n",
       "      <td>0.0</td>\n",
       "      <td>0.0</td>\n",
       "      <td>0.0</td>\n",
       "      <td>0.0</td>\n",
       "      <td>...</td>\n",
       "      <td>1.0</td>\n",
       "      <td>0.0</td>\n",
       "      <td>0.0</td>\n",
       "      <td>0.0</td>\n",
       "      <td>0.0</td>\n",
       "      <td>0.0</td>\n",
       "      <td>0.0</td>\n",
       "      <td>0.0</td>\n",
       "      <td>0.0</td>\n",
       "      <td>0.0</td>\n",
       "    </tr>\n",
       "    <tr>\n",
       "      <th>Coop Pronto</th>\n",
       "      <td>0.0</td>\n",
       "      <td>2.0</td>\n",
       "      <td>1.0</td>\n",
       "      <td>0.0</td>\n",
       "      <td>1.0</td>\n",
       "      <td>0.0</td>\n",
       "      <td>0.0</td>\n",
       "      <td>0.0</td>\n",
       "      <td>0.0</td>\n",
       "      <td>0.0</td>\n",
       "      <td>...</td>\n",
       "      <td>2.0</td>\n",
       "      <td>0.0</td>\n",
       "      <td>0.0</td>\n",
       "      <td>1.0</td>\n",
       "      <td>0.0</td>\n",
       "      <td>1.0</td>\n",
       "      <td>1.0</td>\n",
       "      <td>0.0</td>\n",
       "      <td>0.0</td>\n",
       "      <td>0.0</td>\n",
       "    </tr>\n",
       "    <tr>\n",
       "      <th>Coop Supermarkt</th>\n",
       "      <td>0.0</td>\n",
       "      <td>2.0</td>\n",
       "      <td>2.0</td>\n",
       "      <td>0.0</td>\n",
       "      <td>2.0</td>\n",
       "      <td>2.0</td>\n",
       "      <td>3.0</td>\n",
       "      <td>1.0</td>\n",
       "      <td>1.0</td>\n",
       "      <td>1.0</td>\n",
       "      <td>...</td>\n",
       "      <td>1.0</td>\n",
       "      <td>1.0</td>\n",
       "      <td>1.0</td>\n",
       "      <td>1.0</td>\n",
       "      <td>1.0</td>\n",
       "      <td>1.0</td>\n",
       "      <td>1.0</td>\n",
       "      <td>1.0</td>\n",
       "      <td>1.0</td>\n",
       "      <td>1.0</td>\n",
       "    </tr>\n",
       "    <tr>\n",
       "      <th>Coop Tagungszentrum</th>\n",
       "      <td>0.0</td>\n",
       "      <td>0.0</td>\n",
       "      <td>0.0</td>\n",
       "      <td>0.0</td>\n",
       "      <td>0.0</td>\n",
       "      <td>0.0</td>\n",
       "      <td>0.0</td>\n",
       "      <td>0.0</td>\n",
       "      <td>0.0</td>\n",
       "      <td>0.0</td>\n",
       "      <td>...</td>\n",
       "      <td>0.0</td>\n",
       "      <td>0.0</td>\n",
       "      <td>0.0</td>\n",
       "      <td>0.0</td>\n",
       "      <td>0.0</td>\n",
       "      <td>0.0</td>\n",
       "      <td>0.0</td>\n",
       "      <td>0.0</td>\n",
       "      <td>0.0</td>\n",
       "      <td>0.0</td>\n",
       "    </tr>\n",
       "    <tr>\n",
       "      <th>Coop Vitality</th>\n",
       "      <td>0.0</td>\n",
       "      <td>0.0</td>\n",
       "      <td>0.0</td>\n",
       "      <td>0.0</td>\n",
       "      <td>0.0</td>\n",
       "      <td>0.0</td>\n",
       "      <td>0.0</td>\n",
       "      <td>0.0</td>\n",
       "      <td>0.0</td>\n",
       "      <td>0.0</td>\n",
       "      <td>...</td>\n",
       "      <td>0.0</td>\n",
       "      <td>0.0</td>\n",
       "      <td>1.0</td>\n",
       "      <td>0.0</td>\n",
       "      <td>0.0</td>\n",
       "      <td>0.0</td>\n",
       "      <td>0.0</td>\n",
       "      <td>0.0</td>\n",
       "      <td>0.0</td>\n",
       "      <td>0.0</td>\n",
       "    </tr>\n",
       "    <tr>\n",
       "      <th>Coop to go</th>\n",
       "      <td>0.0</td>\n",
       "      <td>1.0</td>\n",
       "      <td>0.0</td>\n",
       "      <td>0.0</td>\n",
       "      <td>0.0</td>\n",
       "      <td>0.0</td>\n",
       "      <td>0.0</td>\n",
       "      <td>0.0</td>\n",
       "      <td>0.0</td>\n",
       "      <td>0.0</td>\n",
       "      <td>...</td>\n",
       "      <td>0.0</td>\n",
       "      <td>0.0</td>\n",
       "      <td>0.0</td>\n",
       "      <td>0.0</td>\n",
       "      <td>0.0</td>\n",
       "      <td>0.0</td>\n",
       "      <td>0.0</td>\n",
       "      <td>0.0</td>\n",
       "      <td>0.0</td>\n",
       "      <td>0.0</td>\n",
       "    </tr>\n",
       "  </tbody>\n",
       "</table>\n",
       "<p>7 rows × 768 columns</p>\n",
       "</div>"
      ],
      "text/plain": [
       "                    count                                               ...  \\\n",
       "zip                  1002 1003 1004 1005 1006 1007 1008 1009 1010 1012  ...   \n",
       "stores                                                                  ...   \n",
       "Coop Bistro           1.0  2.0  0.0  0.0  0.0  0.0  1.0  0.0  0.0  0.0  ...   \n",
       "Coop City             0.0  1.0  0.0  1.0  0.0  0.0  0.0  0.0  0.0  0.0  ...   \n",
       "Coop Pronto           0.0  2.0  1.0  0.0  1.0  0.0  0.0  0.0  0.0  0.0  ...   \n",
       "Coop Supermarkt       0.0  2.0  2.0  0.0  2.0  2.0  3.0  1.0  1.0  1.0  ...   \n",
       "Coop Tagungszentrum   0.0  0.0  0.0  0.0  0.0  0.0  0.0  0.0  0.0  0.0  ...   \n",
       "Coop Vitality         0.0  0.0  0.0  0.0  0.0  0.0  0.0  0.0  0.0  0.0  ...   \n",
       "Coop to go            0.0  1.0  0.0  0.0  0.0  0.0  0.0  0.0  0.0  0.0  ...   \n",
       "\n",
       "                                                                       \n",
       "zip                 9500 9524 9532 9542 9545 9548 9630 9642 9650 9657  \n",
       "stores                                                                 \n",
       "Coop Bistro          1.0  0.0  1.0  0.0  0.0  0.0  0.0  0.0  0.0  0.0  \n",
       "Coop City            1.0  0.0  0.0  0.0  0.0  0.0  0.0  0.0  0.0  0.0  \n",
       "Coop Pronto          2.0  0.0  0.0  1.0  0.0  1.0  1.0  0.0  0.0  0.0  \n",
       "Coop Supermarkt      1.0  1.0  1.0  1.0  1.0  1.0  1.0  1.0  1.0  1.0  \n",
       "Coop Tagungszentrum  0.0  0.0  0.0  0.0  0.0  0.0  0.0  0.0  0.0  0.0  \n",
       "Coop Vitality        0.0  0.0  1.0  0.0  0.0  0.0  0.0  0.0  0.0  0.0  \n",
       "Coop to go           0.0  0.0  0.0  0.0  0.0  0.0  0.0  0.0  0.0  0.0  \n",
       "\n",
       "[7 rows x 768 columns]"
      ]
     },
     "execution_count": 134,
     "metadata": {},
     "output_type": "execute_result"
    }
   ],
   "source": [
    "df_diff_coops"
   ]
  },
  {
   "cell_type": "markdown",
   "id": "5c50ae9a-5ceb-4399-ae05-a1a3ba4debad",
   "metadata": {},
   "source": [
    "### CSV for Coop Proto"
   ]
  },
  {
   "cell_type": "code",
   "execution_count": 121,
   "id": "d319b718-445d-4c20-896d-8d92d5260dd3",
   "metadata": {
    "tags": []
   },
   "outputs": [],
   "source": [
    "df_Coop_Proto=df_diff_coops_list[df_diff_coops_list['stores']=='Coop Pronto']\n",
    "df_Coop_Proto.to_csv('../../data/cleaned_data/df_coop_proto_zipcount.csv', index=False)"
   ]
  },
  {
   "cell_type": "code",
   "execution_count": null,
   "id": "0f18a92a-a241-4565-96f3-a009315e4288",
   "metadata": {},
   "outputs": [],
   "source": [
    "COOP_stores['zip']=COOP_stores['zip'].astype(str)\n",
    "type(COOP_stores['zip'][1])"
   ]
  }
 ],
 "metadata": {
  "kernelspec": {
   "display_name": "ds_toolkit",
   "language": "python",
   "name": "ds_toolkit"
  },
  "language_info": {
   "codemirror_mode": {
    "name": "ipython",
    "version": 3
   },
   "file_extension": ".py",
   "mimetype": "text/x-python",
   "name": "python",
   "nbconvert_exporter": "python",
   "pygments_lexer": "ipython3",
   "version": "3.12.2"
  }
 },
 "nbformat": 4,
 "nbformat_minor": 5
}
